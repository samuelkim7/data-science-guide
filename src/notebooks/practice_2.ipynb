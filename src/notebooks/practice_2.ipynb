{
 "cells": [
  {
   "cell_type": "markdown",
   "metadata": {},
   "source": [
    "#### [1]\n",
    "while문을 사용해 1부터 1000까지의 자연수 중 3의 배수의 합을 구해 보자."
   ]
  },
  {
   "cell_type": "code",
   "execution_count": null,
   "metadata": {},
   "outputs": [],
   "source": []
  },
  {
   "cell_type": "markdown",
   "metadata": {},
   "source": [
    "#### [2]\n",
    "while문을 사용하여 다음과 같이 별(*)을 표시하는 프로그램을 작성해 보자.\n",
    "\n",
    "```python\n",
    "*\n",
    "**\n",
    "***\n",
    "****\n",
    "*****\n",
    "```"
   ]
  },
  {
   "cell_type": "code",
   "execution_count": null,
   "metadata": {},
   "outputs": [],
   "source": []
  },
  {
   "cell_type": "markdown",
   "metadata": {},
   "source": [
    "#### [3]\n",
    "for문을 사용해 1부터 100까지의 모든 홀수를 출력해 보자."
   ]
  },
  {
   "cell_type": "code",
   "execution_count": null,
   "metadata": {},
   "outputs": [],
   "source": []
  },
  {
   "cell_type": "markdown",
   "metadata": {},
   "source": [
    "#### [4]\n",
    "A 학급에 총 10명의 학생이 있다. 이 학생들의 중간고사 점수는 다음과 같다.\n",
    "\n",
    "[70, 60, 55, 75, 95, 90, 80, 80, 85, 100]\n",
    "\n",
    "for문을 사용하여 A 학급의 평균 점수를 구해 보자."
   ]
  },
  {
   "cell_type": "code",
   "execution_count": null,
   "metadata": {},
   "outputs": [],
   "source": []
  },
  {
   "cell_type": "markdown",
   "metadata": {},
   "source": [
    "#### [5]\n",
    "리스트 중에서 홀수에만 2를 곱하여 저장하는 다음 코드가 있다.\n",
    "\n",
    "```python\n",
    "numbers = [1, 2, 3, 4, 5]\n",
    "result = []\n",
    "for n in numbers:\n",
    "    if n % 2 == 1:\n",
    "        result.append(n*2)\n",
    "```\n",
    "위 코드를 리스트 내포(list comprehension)를 사용하여 표현해 보자."
   ]
  },
  {
   "cell_type": "code",
   "execution_count": null,
   "metadata": {},
   "outputs": [],
   "source": []
  }
 ],
 "metadata": {
  "kernelspec": {
   "display_name": "Python 3.9.12 ('base')",
   "language": "python",
   "name": "python3"
  },
  "language_info": {
   "codemirror_mode": {
    "name": "ipython",
    "version": 3
   },
   "file_extension": ".py",
   "mimetype": "text/x-python",
   "name": "python",
   "nbconvert_exporter": "python",
   "pygments_lexer": "ipython3",
   "version": "3.9.12"
  },
  "orig_nbformat": 4,
  "vscode": {
   "interpreter": {
    "hash": "626bc85f124a7bd1ff87ae78bdbdea4f138dee3cc94505386292463727bed7d3"
   }
  }
 },
 "nbformat": 4,
 "nbformat_minor": 2
}
